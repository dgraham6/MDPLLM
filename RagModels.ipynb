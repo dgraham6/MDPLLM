{
 "cells": [
  {
   "cell_type": "code",
   "execution_count": 1,
   "id": "679db73a-bc0e-4164-b89d-9da89879b3bd",
   "metadata": {},
   "outputs": [],
   "source": [
    "from groq import Groq\n",
    "import os\n",
    "from langchain.prompts import PromptTemplate\n",
    "from langchain_community.vectorstores import Chroma\n",
    "from langchain.text_splitter import RecursiveCharacterTextSplitter\n",
    "from langchain.schema import Document\n",
    "from langchain_huggingface import HuggingFaceEmbeddings\n",
    "from langchain.llms import Ollama\n",
    "from PyPDF2 import PdfReader\n",
    "import requests\n",
    "from bs4 import BeautifulSoup\n",
    "import json"
   ]
  },
  {
   "cell_type": "markdown",
   "id": "87b2ef3a-5a68-425c-8bbf-1c66675d2e71",
   "metadata": {},
   "source": [
    "This file contains\n",
    "1.Simple model using groq\n",
    "2.RAG model using Groq\n",
    "3.simple model using ollama\n",
    "4.RAG model using ollama\n",
    "\n",
    "Setup wise, you likley to run into some errors. \n",
    "For ollama go to ollama.com downlaod the app and pull the models you want to use. This will take significant space so be weary.\n",
    "For groq youll simply loop up groq api and make an account then put your api key in the api_key space, this runs faster but I did run out of alloated calls when doing some of my hw before. "
   ]
  },
  {
   "cell_type": "markdown",
   "id": "0797cce8-ba78-40c2-b17c-615e4b2bee71",
   "metadata": {},
   "source": [
    "# Questions"
   ]
  },
  {
   "cell_type": "code",
   "execution_count": 41,
   "id": "6c7fb465-a983-48e7-8914-06a7dc5b55a0",
   "metadata": {},
   "outputs": [],
   "source": [
    "pathology_questions = [\n",
    "    \"What is the role of a pathologist in cancer diagnosis?\",\n",
    "    \"What are the key markers used to diagnose breast cancer?\",\n",
    "    \n",
    "    \"How is a biopsy analyzed in pathology?\",\n",
    "    \"What are the most common types of cancer identified through pathology?\",\n",
    "    \"What is immunohistochemistry and how is it used in cancer diagnosis?\",\n",
    "    \"What is the difference between malignant and benign tumors in pathology?\",\n",
    "    \"How are tumor grades and stages determined in cancer pathology?\",\n",
    "    \"What is the significance of HER2 status in breast cancer pathology?\",\n",
    "    \"What is the process for conducting a fine-needle aspiration biopsy?\",\n",
    "    \"How is genetic testing used alongside pathology in cancer diagnosis?\",\n",
    "    \"What is the role of liquid biopsy in modern cancer diagnostics?\",\n",
    "    \"What are the key features of a pathology report in oncology?\",\n",
    "    \"What types of imaging techniques support pathological diagnoses?\",\n",
    "    \"What is the importance of lymph node analysis in cancer staging?\",\n",
    "    \"What is the role of molecular pathology in identifying cancer mutations?\",\n",
    "    \"How is cytopathology used to detect cancer cells?\",\n",
    "    \"What is the role of a frozen section in cancer surgeries?\",\n",
    "    \"How do pathologists identify metastatic cancer?\",\n",
    "    \"What are the challenges in diagnosing rare cancers in pathology?\",\n",
    "    \"How does pathology differentiate between primary and secondary cancers?\",\n",
    "    \"What are the most common histological types of lung cancer?\",\n",
    "    \"How is HPV testing used in cervical cancer diagnosis?\",\n",
    "    \"What is the significance of KRAS and EGFR mutations in cancer pathology?\",\n",
    "    \"How is pathology used to evaluate the efficacy of cancer treatments?\",\n",
    "    \"What is the role of tumor markers like CA-125 and PSA in cancer detection?\",\n",
    "    \"How is pathology used to monitor cancer recurrence?\",\n",
    "    \"What are the differences between Hodgkin and non-Hodgkin lymphoma in pathology?\",\n",
    "    \"What are the most common staining techniques in cancer pathology?\",\n",
    "    \"What is the role of pathology in diagnosing gastrointestinal cancers?\",\n",
    "    \"How is pathology used to diagnose skin cancers such as melanoma?\",\n",
    "    \"What is the role of PD-L1 testing in immunotherapy decisions?\",\n",
    "    \"What are the common histological features of prostate cancer?\",\n",
    "    \"How are brain tumors classified in cancer pathology?\",\n",
    "    \"What is the importance of margins in pathology after tumor excision?\",\n",
    "    \"How are sentinel lymph nodes analyzed in pathology?\",\n",
    "    \"What are the key features of colorectal cancer in pathology?\",\n",
    "    \"What are the differences between squamous cell carcinoma and adenocarcinoma?\",\n",
    "    \"How is pathology used in diagnosing pediatric cancers?\",\n",
    "    \"What is the role of pathology in diagnosing hematological malignancies?\",\n",
    "    \"What is the significance of genetic translocations in cancer pathology?\",\n",
    "    \"How is fluorescence in situ hybridization (FISH) used in cancer diagnostics?\",\n",
    "    \"What is the importance of mitotic index in cancer pathology?\",\n",
    "    \"How is pathology used to detect cancer-related infections such as EBV or H. pylori?\",\n",
    "    \"What are the latest advancements in digital pathology for cancer diagnosis?\",\n",
    "    \"What is the role of artificial intelligence in modern cancer pathology?\",\n",
    "    \"How is pathology used in diagnosing soft tissue sarcomas?\",\n",
    "    \"What is the importance of a multidisciplinary team in cancer diagnosis and treatment?\",\n",
    "    \"What are the differences between ductal and lobular breast carcinoma in pathology?\",\n",
    "    \"How are blood cancers like leukemia diagnosed in pathology?\",\n",
    "    \"What are the common immunohistochemical markers for renal cell carcinoma?\",\n",
    "    \"How is pathology used to assess tumor response to neoadjuvant therapy?\",\n",
    "    \"What is the role of liquid biopsies in detecting circulating tumor DNA?\",\n",
    "    \"How do pathologists identify cancer from exfoliative cytology samples?\",\n",
    "    \"What are the ethical considerations in pathology related to cancer diagnostics?\",\n",
    "    \"How is pathology evolving with personalized cancer medicine?\"\n",
    "]"
   ]
  },
  {
   "cell_type": "markdown",
   "id": "9c83790c-c96b-43cb-bdf3-192452eb541d",
   "metadata": {},
   "source": [
    "This first cell is a function that you shouldent have to run. So dont run the second cell either"
   ]
  },
  {
   "cell_type": "code",
   "execution_count": 17,
   "id": "1d1eb9b7-8bf9-40bd-8e14-c43fc16e9670",
   "metadata": {},
   "outputs": [],
   "source": [
    "def scrape_biorxiv_pdf_urls():\n",
    "    base_url = \"https://www.biorxiv.org\"\n",
    "    pdf_urls = []\n",
    "    for page_number in range(1, 20): \n",
    "        page_url = f\"{base_url}/content/early/recent?page={page_number}\"\n",
    "        response = requests.get(page_url)\n",
    "        \n",
    "        if response.status_code == 200:\n",
    "            soup = BeautifulSoup(response.content, \"html.parser\")\n",
    "\n",
    "            article_links = soup.find_all(\"a\", class_=\"highwire-cite-linked-title\")\n",
    "            for article_link in article_links:\n",
    "                article_href = article_link.get(\"href\")\n",
    "                if article_href:\n",
    "                    article_url = base_url + article_href\n",
    "                    article_response = requests.get(article_url)\n",
    "                    if article_response.status_code == 200:\n",
    "                        article_soup = BeautifulSoup(article_response.content, \"html.parser\")\n",
    "                        pdf_link = article_soup.find(\"a\", class_=\"article-dl-pdf-link\")\n",
    "                        \n",
    "                        if pdf_link:\n",
    "                            pdf_href = pdf_link.get(\"href\")\n",
    "                            if pdf_href and pdf_href.endswith(\".pdf\"):\n",
    "                                full_pdf_url = base_url + pdf_href\n",
    "                                pdf_urls.append(full_pdf_url)\n",
    "    \n",
    "    return pdf_urls"
   ]
  },
  {
   "cell_type": "code",
   "execution_count": 18,
   "id": "67224feb-ce59-4b22-b73e-5b22f83d0de3",
   "metadata": {
    "collapsed": true,
    "jupyter": {
     "outputs_hidden": true
    },
    "scrolled": true
   },
   "outputs": [
    {
     "ename": "KeyboardInterrupt",
     "evalue": "",
     "output_type": "error",
     "traceback": [
      "\u001b[0;31m---------------------------------------------------------------------------\u001b[0m",
      "\u001b[0;31mKeyboardInterrupt\u001b[0m                         Traceback (most recent call last)",
      "Cell \u001b[0;32mIn[18], line 1\u001b[0m\n\u001b[0;32m----> 1\u001b[0m bio_urls \u001b[38;5;241m=\u001b[39m \u001b[43mscrape_biorxiv_pdf_urls\u001b[49m\u001b[43m(\u001b[49m\u001b[43m)\u001b[49m\n",
      "Cell \u001b[0;32mIn[17], line 16\u001b[0m, in \u001b[0;36mscrape_biorxiv_pdf_urls\u001b[0;34m()\u001b[0m\n\u001b[1;32m     14\u001b[0m \u001b[38;5;28;01mif\u001b[39;00m article_href:\n\u001b[1;32m     15\u001b[0m     article_url \u001b[38;5;241m=\u001b[39m base_url \u001b[38;5;241m+\u001b[39m article_href\n\u001b[0;32m---> 16\u001b[0m     article_response \u001b[38;5;241m=\u001b[39m \u001b[43mrequests\u001b[49m\u001b[38;5;241;43m.\u001b[39;49m\u001b[43mget\u001b[49m\u001b[43m(\u001b[49m\u001b[43marticle_url\u001b[49m\u001b[43m)\u001b[49m\n\u001b[1;32m     17\u001b[0m     \u001b[38;5;28;01mif\u001b[39;00m article_response\u001b[38;5;241m.\u001b[39mstatus_code \u001b[38;5;241m==\u001b[39m \u001b[38;5;241m200\u001b[39m:\n\u001b[1;32m     18\u001b[0m         article_soup \u001b[38;5;241m=\u001b[39m BeautifulSoup(article_response\u001b[38;5;241m.\u001b[39mcontent, \u001b[38;5;124m\"\u001b[39m\u001b[38;5;124mhtml.parser\u001b[39m\u001b[38;5;124m\"\u001b[39m)\n",
      "File \u001b[0;32m~/miniforge3/lib/python3.10/site-packages/requests/api.py:73\u001b[0m, in \u001b[0;36mget\u001b[0;34m(url, params, **kwargs)\u001b[0m\n\u001b[1;32m     62\u001b[0m \u001b[38;5;28;01mdef\u001b[39;00m \u001b[38;5;21mget\u001b[39m(url, params\u001b[38;5;241m=\u001b[39m\u001b[38;5;28;01mNone\u001b[39;00m, \u001b[38;5;241m*\u001b[39m\u001b[38;5;241m*\u001b[39mkwargs):\n\u001b[1;32m     63\u001b[0m \u001b[38;5;250m    \u001b[39m\u001b[38;5;124mr\u001b[39m\u001b[38;5;124;03m\"\"\"Sends a GET request.\u001b[39;00m\n\u001b[1;32m     64\u001b[0m \n\u001b[1;32m     65\u001b[0m \u001b[38;5;124;03m    :param url: URL for the new :class:`Request` object.\u001b[39;00m\n\u001b[0;32m   (...)\u001b[0m\n\u001b[1;32m     70\u001b[0m \u001b[38;5;124;03m    :rtype: requests.Response\u001b[39;00m\n\u001b[1;32m     71\u001b[0m \u001b[38;5;124;03m    \"\"\"\u001b[39;00m\n\u001b[0;32m---> 73\u001b[0m     \u001b[38;5;28;01mreturn\u001b[39;00m \u001b[43mrequest\u001b[49m\u001b[43m(\u001b[49m\u001b[38;5;124;43m\"\u001b[39;49m\u001b[38;5;124;43mget\u001b[39;49m\u001b[38;5;124;43m\"\u001b[39;49m\u001b[43m,\u001b[49m\u001b[43m \u001b[49m\u001b[43murl\u001b[49m\u001b[43m,\u001b[49m\u001b[43m \u001b[49m\u001b[43mparams\u001b[49m\u001b[38;5;241;43m=\u001b[39;49m\u001b[43mparams\u001b[49m\u001b[43m,\u001b[49m\u001b[43m \u001b[49m\u001b[38;5;241;43m*\u001b[39;49m\u001b[38;5;241;43m*\u001b[39;49m\u001b[43mkwargs\u001b[49m\u001b[43m)\u001b[49m\n",
      "File \u001b[0;32m~/miniforge3/lib/python3.10/site-packages/requests/api.py:59\u001b[0m, in \u001b[0;36mrequest\u001b[0;34m(method, url, **kwargs)\u001b[0m\n\u001b[1;32m     55\u001b[0m \u001b[38;5;66;03m# By using the 'with' statement we are sure the session is closed, thus we\u001b[39;00m\n\u001b[1;32m     56\u001b[0m \u001b[38;5;66;03m# avoid leaving sockets open which can trigger a ResourceWarning in some\u001b[39;00m\n\u001b[1;32m     57\u001b[0m \u001b[38;5;66;03m# cases, and look like a memory leak in others.\u001b[39;00m\n\u001b[1;32m     58\u001b[0m \u001b[38;5;28;01mwith\u001b[39;00m sessions\u001b[38;5;241m.\u001b[39mSession() \u001b[38;5;28;01mas\u001b[39;00m session:\n\u001b[0;32m---> 59\u001b[0m     \u001b[38;5;28;01mreturn\u001b[39;00m \u001b[43msession\u001b[49m\u001b[38;5;241;43m.\u001b[39;49m\u001b[43mrequest\u001b[49m\u001b[43m(\u001b[49m\u001b[43mmethod\u001b[49m\u001b[38;5;241;43m=\u001b[39;49m\u001b[43mmethod\u001b[49m\u001b[43m,\u001b[49m\u001b[43m \u001b[49m\u001b[43murl\u001b[49m\u001b[38;5;241;43m=\u001b[39;49m\u001b[43murl\u001b[49m\u001b[43m,\u001b[49m\u001b[43m \u001b[49m\u001b[38;5;241;43m*\u001b[39;49m\u001b[38;5;241;43m*\u001b[39;49m\u001b[43mkwargs\u001b[49m\u001b[43m)\u001b[49m\n",
      "File \u001b[0;32m~/miniforge3/lib/python3.10/site-packages/requests/sessions.py:589\u001b[0m, in \u001b[0;36mSession.request\u001b[0;34m(self, method, url, params, data, headers, cookies, files, auth, timeout, allow_redirects, proxies, hooks, stream, verify, cert, json)\u001b[0m\n\u001b[1;32m    584\u001b[0m send_kwargs \u001b[38;5;241m=\u001b[39m {\n\u001b[1;32m    585\u001b[0m     \u001b[38;5;124m\"\u001b[39m\u001b[38;5;124mtimeout\u001b[39m\u001b[38;5;124m\"\u001b[39m: timeout,\n\u001b[1;32m    586\u001b[0m     \u001b[38;5;124m\"\u001b[39m\u001b[38;5;124mallow_redirects\u001b[39m\u001b[38;5;124m\"\u001b[39m: allow_redirects,\n\u001b[1;32m    587\u001b[0m }\n\u001b[1;32m    588\u001b[0m send_kwargs\u001b[38;5;241m.\u001b[39mupdate(settings)\n\u001b[0;32m--> 589\u001b[0m resp \u001b[38;5;241m=\u001b[39m \u001b[38;5;28;43mself\u001b[39;49m\u001b[38;5;241;43m.\u001b[39;49m\u001b[43msend\u001b[49m\u001b[43m(\u001b[49m\u001b[43mprep\u001b[49m\u001b[43m,\u001b[49m\u001b[43m \u001b[49m\u001b[38;5;241;43m*\u001b[39;49m\u001b[38;5;241;43m*\u001b[39;49m\u001b[43msend_kwargs\u001b[49m\u001b[43m)\u001b[49m\n\u001b[1;32m    591\u001b[0m \u001b[38;5;28;01mreturn\u001b[39;00m resp\n",
      "File \u001b[0;32m~/miniforge3/lib/python3.10/site-packages/requests/sessions.py:703\u001b[0m, in \u001b[0;36mSession.send\u001b[0;34m(self, request, **kwargs)\u001b[0m\n\u001b[1;32m    700\u001b[0m start \u001b[38;5;241m=\u001b[39m preferred_clock()\n\u001b[1;32m    702\u001b[0m \u001b[38;5;66;03m# Send the request\u001b[39;00m\n\u001b[0;32m--> 703\u001b[0m r \u001b[38;5;241m=\u001b[39m \u001b[43madapter\u001b[49m\u001b[38;5;241;43m.\u001b[39;49m\u001b[43msend\u001b[49m\u001b[43m(\u001b[49m\u001b[43mrequest\u001b[49m\u001b[43m,\u001b[49m\u001b[43m \u001b[49m\u001b[38;5;241;43m*\u001b[39;49m\u001b[38;5;241;43m*\u001b[39;49m\u001b[43mkwargs\u001b[49m\u001b[43m)\u001b[49m\n\u001b[1;32m    705\u001b[0m \u001b[38;5;66;03m# Total elapsed time of the request (approximately)\u001b[39;00m\n\u001b[1;32m    706\u001b[0m elapsed \u001b[38;5;241m=\u001b[39m preferred_clock() \u001b[38;5;241m-\u001b[39m start\n",
      "File \u001b[0;32m~/miniforge3/lib/python3.10/site-packages/requests/adapters.py:486\u001b[0m, in \u001b[0;36mHTTPAdapter.send\u001b[0;34m(self, request, stream, timeout, verify, cert, proxies)\u001b[0m\n\u001b[1;32m    483\u001b[0m     timeout \u001b[38;5;241m=\u001b[39m TimeoutSauce(connect\u001b[38;5;241m=\u001b[39mtimeout, read\u001b[38;5;241m=\u001b[39mtimeout)\n\u001b[1;32m    485\u001b[0m \u001b[38;5;28;01mtry\u001b[39;00m:\n\u001b[0;32m--> 486\u001b[0m     resp \u001b[38;5;241m=\u001b[39m \u001b[43mconn\u001b[49m\u001b[38;5;241;43m.\u001b[39;49m\u001b[43murlopen\u001b[49m\u001b[43m(\u001b[49m\n\u001b[1;32m    487\u001b[0m \u001b[43m        \u001b[49m\u001b[43mmethod\u001b[49m\u001b[38;5;241;43m=\u001b[39;49m\u001b[43mrequest\u001b[49m\u001b[38;5;241;43m.\u001b[39;49m\u001b[43mmethod\u001b[49m\u001b[43m,\u001b[49m\n\u001b[1;32m    488\u001b[0m \u001b[43m        \u001b[49m\u001b[43murl\u001b[49m\u001b[38;5;241;43m=\u001b[39;49m\u001b[43murl\u001b[49m\u001b[43m,\u001b[49m\n\u001b[1;32m    489\u001b[0m \u001b[43m        \u001b[49m\u001b[43mbody\u001b[49m\u001b[38;5;241;43m=\u001b[39;49m\u001b[43mrequest\u001b[49m\u001b[38;5;241;43m.\u001b[39;49m\u001b[43mbody\u001b[49m\u001b[43m,\u001b[49m\n\u001b[1;32m    490\u001b[0m \u001b[43m        \u001b[49m\u001b[43mheaders\u001b[49m\u001b[38;5;241;43m=\u001b[39;49m\u001b[43mrequest\u001b[49m\u001b[38;5;241;43m.\u001b[39;49m\u001b[43mheaders\u001b[49m\u001b[43m,\u001b[49m\n\u001b[1;32m    491\u001b[0m \u001b[43m        \u001b[49m\u001b[43mredirect\u001b[49m\u001b[38;5;241;43m=\u001b[39;49m\u001b[38;5;28;43;01mFalse\u001b[39;49;00m\u001b[43m,\u001b[49m\n\u001b[1;32m    492\u001b[0m \u001b[43m        \u001b[49m\u001b[43massert_same_host\u001b[49m\u001b[38;5;241;43m=\u001b[39;49m\u001b[38;5;28;43;01mFalse\u001b[39;49;00m\u001b[43m,\u001b[49m\n\u001b[1;32m    493\u001b[0m \u001b[43m        \u001b[49m\u001b[43mpreload_content\u001b[49m\u001b[38;5;241;43m=\u001b[39;49m\u001b[38;5;28;43;01mFalse\u001b[39;49;00m\u001b[43m,\u001b[49m\n\u001b[1;32m    494\u001b[0m \u001b[43m        \u001b[49m\u001b[43mdecode_content\u001b[49m\u001b[38;5;241;43m=\u001b[39;49m\u001b[38;5;28;43;01mFalse\u001b[39;49;00m\u001b[43m,\u001b[49m\n\u001b[1;32m    495\u001b[0m \u001b[43m        \u001b[49m\u001b[43mretries\u001b[49m\u001b[38;5;241;43m=\u001b[39;49m\u001b[38;5;28;43mself\u001b[39;49m\u001b[38;5;241;43m.\u001b[39;49m\u001b[43mmax_retries\u001b[49m\u001b[43m,\u001b[49m\n\u001b[1;32m    496\u001b[0m \u001b[43m        \u001b[49m\u001b[43mtimeout\u001b[49m\u001b[38;5;241;43m=\u001b[39;49m\u001b[43mtimeout\u001b[49m\u001b[43m,\u001b[49m\n\u001b[1;32m    497\u001b[0m \u001b[43m        \u001b[49m\u001b[43mchunked\u001b[49m\u001b[38;5;241;43m=\u001b[39;49m\u001b[43mchunked\u001b[49m\u001b[43m,\u001b[49m\n\u001b[1;32m    498\u001b[0m \u001b[43m    \u001b[49m\u001b[43m)\u001b[49m\n\u001b[1;32m    500\u001b[0m \u001b[38;5;28;01mexcept\u001b[39;00m (ProtocolError, \u001b[38;5;167;01mOSError\u001b[39;00m) \u001b[38;5;28;01mas\u001b[39;00m err:\n\u001b[1;32m    501\u001b[0m     \u001b[38;5;28;01mraise\u001b[39;00m \u001b[38;5;167;01mConnectionError\u001b[39;00m(err, request\u001b[38;5;241m=\u001b[39mrequest)\n",
      "File \u001b[0;32m~/miniforge3/lib/python3.10/site-packages/urllib3/connectionpool.py:793\u001b[0m, in \u001b[0;36mHTTPConnectionPool.urlopen\u001b[0;34m(self, method, url, body, headers, retries, redirect, assert_same_host, timeout, pool_timeout, release_conn, chunked, body_pos, preload_content, decode_content, **response_kw)\u001b[0m\n\u001b[1;32m    790\u001b[0m response_conn \u001b[38;5;241m=\u001b[39m conn \u001b[38;5;28;01mif\u001b[39;00m \u001b[38;5;129;01mnot\u001b[39;00m release_conn \u001b[38;5;28;01melse\u001b[39;00m \u001b[38;5;28;01mNone\u001b[39;00m\n\u001b[1;32m    792\u001b[0m \u001b[38;5;66;03m# Make the request on the HTTPConnection object\u001b[39;00m\n\u001b[0;32m--> 793\u001b[0m response \u001b[38;5;241m=\u001b[39m \u001b[38;5;28;43mself\u001b[39;49m\u001b[38;5;241;43m.\u001b[39;49m\u001b[43m_make_request\u001b[49m\u001b[43m(\u001b[49m\n\u001b[1;32m    794\u001b[0m \u001b[43m    \u001b[49m\u001b[43mconn\u001b[49m\u001b[43m,\u001b[49m\n\u001b[1;32m    795\u001b[0m \u001b[43m    \u001b[49m\u001b[43mmethod\u001b[49m\u001b[43m,\u001b[49m\n\u001b[1;32m    796\u001b[0m \u001b[43m    \u001b[49m\u001b[43murl\u001b[49m\u001b[43m,\u001b[49m\n\u001b[1;32m    797\u001b[0m \u001b[43m    \u001b[49m\u001b[43mtimeout\u001b[49m\u001b[38;5;241;43m=\u001b[39;49m\u001b[43mtimeout_obj\u001b[49m\u001b[43m,\u001b[49m\n\u001b[1;32m    798\u001b[0m \u001b[43m    \u001b[49m\u001b[43mbody\u001b[49m\u001b[38;5;241;43m=\u001b[39;49m\u001b[43mbody\u001b[49m\u001b[43m,\u001b[49m\n\u001b[1;32m    799\u001b[0m \u001b[43m    \u001b[49m\u001b[43mheaders\u001b[49m\u001b[38;5;241;43m=\u001b[39;49m\u001b[43mheaders\u001b[49m\u001b[43m,\u001b[49m\n\u001b[1;32m    800\u001b[0m \u001b[43m    \u001b[49m\u001b[43mchunked\u001b[49m\u001b[38;5;241;43m=\u001b[39;49m\u001b[43mchunked\u001b[49m\u001b[43m,\u001b[49m\n\u001b[1;32m    801\u001b[0m \u001b[43m    \u001b[49m\u001b[43mretries\u001b[49m\u001b[38;5;241;43m=\u001b[39;49m\u001b[43mretries\u001b[49m\u001b[43m,\u001b[49m\n\u001b[1;32m    802\u001b[0m \u001b[43m    \u001b[49m\u001b[43mresponse_conn\u001b[49m\u001b[38;5;241;43m=\u001b[39;49m\u001b[43mresponse_conn\u001b[49m\u001b[43m,\u001b[49m\n\u001b[1;32m    803\u001b[0m \u001b[43m    \u001b[49m\u001b[43mpreload_content\u001b[49m\u001b[38;5;241;43m=\u001b[39;49m\u001b[43mpreload_content\u001b[49m\u001b[43m,\u001b[49m\n\u001b[1;32m    804\u001b[0m \u001b[43m    \u001b[49m\u001b[43mdecode_content\u001b[49m\u001b[38;5;241;43m=\u001b[39;49m\u001b[43mdecode_content\u001b[49m\u001b[43m,\u001b[49m\n\u001b[1;32m    805\u001b[0m \u001b[43m    \u001b[49m\u001b[38;5;241;43m*\u001b[39;49m\u001b[38;5;241;43m*\u001b[39;49m\u001b[43mresponse_kw\u001b[49m\u001b[43m,\u001b[49m\n\u001b[1;32m    806\u001b[0m \u001b[43m\u001b[49m\u001b[43m)\u001b[49m\n\u001b[1;32m    808\u001b[0m \u001b[38;5;66;03m# Everything went great!\u001b[39;00m\n\u001b[1;32m    809\u001b[0m clean_exit \u001b[38;5;241m=\u001b[39m \u001b[38;5;28;01mTrue\u001b[39;00m\n",
      "File \u001b[0;32m~/miniforge3/lib/python3.10/site-packages/urllib3/connectionpool.py:537\u001b[0m, in \u001b[0;36mHTTPConnectionPool._make_request\u001b[0;34m(self, conn, method, url, body, headers, retries, timeout, chunked, response_conn, preload_content, decode_content, enforce_content_length)\u001b[0m\n\u001b[1;32m    535\u001b[0m \u001b[38;5;66;03m# Receive the response from the server\u001b[39;00m\n\u001b[1;32m    536\u001b[0m \u001b[38;5;28;01mtry\u001b[39;00m:\n\u001b[0;32m--> 537\u001b[0m     response \u001b[38;5;241m=\u001b[39m \u001b[43mconn\u001b[49m\u001b[38;5;241;43m.\u001b[39;49m\u001b[43mgetresponse\u001b[49m\u001b[43m(\u001b[49m\u001b[43m)\u001b[49m\n\u001b[1;32m    538\u001b[0m \u001b[38;5;28;01mexcept\u001b[39;00m (BaseSSLError, \u001b[38;5;167;01mOSError\u001b[39;00m) \u001b[38;5;28;01mas\u001b[39;00m e:\n\u001b[1;32m    539\u001b[0m     \u001b[38;5;28mself\u001b[39m\u001b[38;5;241m.\u001b[39m_raise_timeout(err\u001b[38;5;241m=\u001b[39me, url\u001b[38;5;241m=\u001b[39murl, timeout_value\u001b[38;5;241m=\u001b[39mread_timeout)\n",
      "File \u001b[0;32m~/miniforge3/lib/python3.10/site-packages/urllib3/connection.py:466\u001b[0m, in \u001b[0;36mHTTPConnection.getresponse\u001b[0;34m(self)\u001b[0m\n\u001b[1;32m    463\u001b[0m \u001b[38;5;28;01mfrom\u001b[39;00m \u001b[38;5;21;01m.\u001b[39;00m\u001b[38;5;21;01mresponse\u001b[39;00m \u001b[38;5;28;01mimport\u001b[39;00m HTTPResponse\n\u001b[1;32m    465\u001b[0m \u001b[38;5;66;03m# Get the response from http.client.HTTPConnection\u001b[39;00m\n\u001b[0;32m--> 466\u001b[0m httplib_response \u001b[38;5;241m=\u001b[39m \u001b[38;5;28;43msuper\u001b[39;49m\u001b[43m(\u001b[49m\u001b[43m)\u001b[49m\u001b[38;5;241;43m.\u001b[39;49m\u001b[43mgetresponse\u001b[49m\u001b[43m(\u001b[49m\u001b[43m)\u001b[49m\n\u001b[1;32m    468\u001b[0m \u001b[38;5;28;01mtry\u001b[39;00m:\n\u001b[1;32m    469\u001b[0m     assert_header_parsing(httplib_response\u001b[38;5;241m.\u001b[39mmsg)\n",
      "File \u001b[0;32m~/miniforge3/lib/python3.10/http/client.py:1375\u001b[0m, in \u001b[0;36mHTTPConnection.getresponse\u001b[0;34m(self)\u001b[0m\n\u001b[1;32m   1373\u001b[0m \u001b[38;5;28;01mtry\u001b[39;00m:\n\u001b[1;32m   1374\u001b[0m     \u001b[38;5;28;01mtry\u001b[39;00m:\n\u001b[0;32m-> 1375\u001b[0m         \u001b[43mresponse\u001b[49m\u001b[38;5;241;43m.\u001b[39;49m\u001b[43mbegin\u001b[49m\u001b[43m(\u001b[49m\u001b[43m)\u001b[49m\n\u001b[1;32m   1376\u001b[0m     \u001b[38;5;28;01mexcept\u001b[39;00m \u001b[38;5;167;01mConnectionError\u001b[39;00m:\n\u001b[1;32m   1377\u001b[0m         \u001b[38;5;28mself\u001b[39m\u001b[38;5;241m.\u001b[39mclose()\n",
      "File \u001b[0;32m~/miniforge3/lib/python3.10/http/client.py:318\u001b[0m, in \u001b[0;36mHTTPResponse.begin\u001b[0;34m(self)\u001b[0m\n\u001b[1;32m    316\u001b[0m \u001b[38;5;66;03m# read until we get a non-100 response\u001b[39;00m\n\u001b[1;32m    317\u001b[0m \u001b[38;5;28;01mwhile\u001b[39;00m \u001b[38;5;28;01mTrue\u001b[39;00m:\n\u001b[0;32m--> 318\u001b[0m     version, status, reason \u001b[38;5;241m=\u001b[39m \u001b[38;5;28;43mself\u001b[39;49m\u001b[38;5;241;43m.\u001b[39;49m\u001b[43m_read_status\u001b[49m\u001b[43m(\u001b[49m\u001b[43m)\u001b[49m\n\u001b[1;32m    319\u001b[0m     \u001b[38;5;28;01mif\u001b[39;00m status \u001b[38;5;241m!=\u001b[39m CONTINUE:\n\u001b[1;32m    320\u001b[0m         \u001b[38;5;28;01mbreak\u001b[39;00m\n",
      "File \u001b[0;32m~/miniforge3/lib/python3.10/http/client.py:279\u001b[0m, in \u001b[0;36mHTTPResponse._read_status\u001b[0;34m(self)\u001b[0m\n\u001b[1;32m    278\u001b[0m \u001b[38;5;28;01mdef\u001b[39;00m \u001b[38;5;21m_read_status\u001b[39m(\u001b[38;5;28mself\u001b[39m):\n\u001b[0;32m--> 279\u001b[0m     line \u001b[38;5;241m=\u001b[39m \u001b[38;5;28mstr\u001b[39m(\u001b[38;5;28;43mself\u001b[39;49m\u001b[38;5;241;43m.\u001b[39;49m\u001b[43mfp\u001b[49m\u001b[38;5;241;43m.\u001b[39;49m\u001b[43mreadline\u001b[49m\u001b[43m(\u001b[49m\u001b[43m_MAXLINE\u001b[49m\u001b[43m \u001b[49m\u001b[38;5;241;43m+\u001b[39;49m\u001b[43m \u001b[49m\u001b[38;5;241;43m1\u001b[39;49m\u001b[43m)\u001b[49m, \u001b[38;5;124m\"\u001b[39m\u001b[38;5;124miso-8859-1\u001b[39m\u001b[38;5;124m\"\u001b[39m)\n\u001b[1;32m    280\u001b[0m     \u001b[38;5;28;01mif\u001b[39;00m \u001b[38;5;28mlen\u001b[39m(line) \u001b[38;5;241m>\u001b[39m _MAXLINE:\n\u001b[1;32m    281\u001b[0m         \u001b[38;5;28;01mraise\u001b[39;00m LineTooLong(\u001b[38;5;124m\"\u001b[39m\u001b[38;5;124mstatus line\u001b[39m\u001b[38;5;124m\"\u001b[39m)\n",
      "File \u001b[0;32m~/miniforge3/lib/python3.10/socket.py:705\u001b[0m, in \u001b[0;36mSocketIO.readinto\u001b[0;34m(self, b)\u001b[0m\n\u001b[1;32m    703\u001b[0m \u001b[38;5;28;01mwhile\u001b[39;00m \u001b[38;5;28;01mTrue\u001b[39;00m:\n\u001b[1;32m    704\u001b[0m     \u001b[38;5;28;01mtry\u001b[39;00m:\n\u001b[0;32m--> 705\u001b[0m         \u001b[38;5;28;01mreturn\u001b[39;00m \u001b[38;5;28;43mself\u001b[39;49m\u001b[38;5;241;43m.\u001b[39;49m\u001b[43m_sock\u001b[49m\u001b[38;5;241;43m.\u001b[39;49m\u001b[43mrecv_into\u001b[49m\u001b[43m(\u001b[49m\u001b[43mb\u001b[49m\u001b[43m)\u001b[49m\n\u001b[1;32m    706\u001b[0m     \u001b[38;5;28;01mexcept\u001b[39;00m timeout:\n\u001b[1;32m    707\u001b[0m         \u001b[38;5;28mself\u001b[39m\u001b[38;5;241m.\u001b[39m_timeout_occurred \u001b[38;5;241m=\u001b[39m \u001b[38;5;28;01mTrue\u001b[39;00m\n",
      "File \u001b[0;32m~/miniforge3/lib/python3.10/ssl.py:1307\u001b[0m, in \u001b[0;36mSSLSocket.recv_into\u001b[0;34m(self, buffer, nbytes, flags)\u001b[0m\n\u001b[1;32m   1303\u001b[0m     \u001b[38;5;28;01mif\u001b[39;00m flags \u001b[38;5;241m!=\u001b[39m \u001b[38;5;241m0\u001b[39m:\n\u001b[1;32m   1304\u001b[0m         \u001b[38;5;28;01mraise\u001b[39;00m \u001b[38;5;167;01mValueError\u001b[39;00m(\n\u001b[1;32m   1305\u001b[0m           \u001b[38;5;124m\"\u001b[39m\u001b[38;5;124mnon-zero flags not allowed in calls to recv_into() on \u001b[39m\u001b[38;5;132;01m%s\u001b[39;00m\u001b[38;5;124m\"\u001b[39m \u001b[38;5;241m%\u001b[39m\n\u001b[1;32m   1306\u001b[0m           \u001b[38;5;28mself\u001b[39m\u001b[38;5;241m.\u001b[39m\u001b[38;5;18m__class__\u001b[39m)\n\u001b[0;32m-> 1307\u001b[0m     \u001b[38;5;28;01mreturn\u001b[39;00m \u001b[38;5;28;43mself\u001b[39;49m\u001b[38;5;241;43m.\u001b[39;49m\u001b[43mread\u001b[49m\u001b[43m(\u001b[49m\u001b[43mnbytes\u001b[49m\u001b[43m,\u001b[49m\u001b[43m \u001b[49m\u001b[43mbuffer\u001b[49m\u001b[43m)\u001b[49m\n\u001b[1;32m   1308\u001b[0m \u001b[38;5;28;01melse\u001b[39;00m:\n\u001b[1;32m   1309\u001b[0m     \u001b[38;5;28;01mreturn\u001b[39;00m \u001b[38;5;28msuper\u001b[39m()\u001b[38;5;241m.\u001b[39mrecv_into(buffer, nbytes, flags)\n",
      "File \u001b[0;32m~/miniforge3/lib/python3.10/ssl.py:1163\u001b[0m, in \u001b[0;36mSSLSocket.read\u001b[0;34m(self, len, buffer)\u001b[0m\n\u001b[1;32m   1161\u001b[0m \u001b[38;5;28;01mtry\u001b[39;00m:\n\u001b[1;32m   1162\u001b[0m     \u001b[38;5;28;01mif\u001b[39;00m buffer \u001b[38;5;129;01mis\u001b[39;00m \u001b[38;5;129;01mnot\u001b[39;00m \u001b[38;5;28;01mNone\u001b[39;00m:\n\u001b[0;32m-> 1163\u001b[0m         \u001b[38;5;28;01mreturn\u001b[39;00m \u001b[38;5;28;43mself\u001b[39;49m\u001b[38;5;241;43m.\u001b[39;49m\u001b[43m_sslobj\u001b[49m\u001b[38;5;241;43m.\u001b[39;49m\u001b[43mread\u001b[49m\u001b[43m(\u001b[49m\u001b[38;5;28;43mlen\u001b[39;49m\u001b[43m,\u001b[49m\u001b[43m \u001b[49m\u001b[43mbuffer\u001b[49m\u001b[43m)\u001b[49m\n\u001b[1;32m   1164\u001b[0m     \u001b[38;5;28;01melse\u001b[39;00m:\n\u001b[1;32m   1165\u001b[0m         \u001b[38;5;28;01mreturn\u001b[39;00m \u001b[38;5;28mself\u001b[39m\u001b[38;5;241m.\u001b[39m_sslobj\u001b[38;5;241m.\u001b[39mread(\u001b[38;5;28mlen\u001b[39m)\n",
      "\u001b[0;31mKeyboardInterrupt\u001b[0m: "
     ]
    }
   ],
   "source": [
    "bio_urls = scrape_biorxiv_pdf_urls()"
   ]
  },
  {
   "cell_type": "markdown",
   "id": "5507b543-fa14-422a-82cd-83130a0d653c",
   "metadata": {},
   "source": [
    "# Just use the cell below to extract some of the scraped urls."
   ]
  },
  {
   "cell_type": "code",
   "execution_count": 8,
   "id": "d640a3ef-06d6-493e-83af-f98fd9d3a237",
   "metadata": {},
   "outputs": [],
   "source": [
    "with open(\"bio_urls.txt\", \"r\") as file:\n",
    "    bio_urls = [line.strip() for line in file]"
   ]
  },
  {
   "cell_type": "markdown",
   "id": "4492af06-6ff4-4004-8f8d-e26bf389259f",
   "metadata": {},
   "source": [
    "Loop up groq and sign up then click around for your api key"
   ]
  },
  {
   "cell_type": "code",
   "execution_count": 30,
   "id": "c4c45517-0081-4225-99bd-2bb3b161057f",
   "metadata": {},
   "outputs": [],
   "source": [
    "def load_pdf_from_url(url):\n",
    "    try:\n",
    "        response = requests.get(url)\n",
    "        response.raise_for_status()\n",
    "        with open(\"temp.pdf\", \"wb\") as f:\n",
    "            f.write(response.content)\n",
    "        reader = PdfReader(\"temp.pdf\")\n",
    "        text = \"\".join([page.extract_text() for page in reader.pages])\n",
    "        return text\n",
    "    except requests.RequestException as e:\n",
    "        print(f\"Failed to download PDF from {url}: {str(e)}\")\n",
    "        return \"\"\n",
    "\n",
    "def scrape_website(url):\n",
    "    try:\n",
    "        response = requests.get(url)\n",
    "        response.raise_for_status()\n",
    "        soup = BeautifulSoup(response.content, 'html.parser')\n",
    "        paragraphs = soup.find_all('p')\n",
    "        content = \"\\n\".join([para.get_text() for para in paragraphs])\n",
    "        return content\n",
    "    except requests.RequestException as e:\n",
    "        print(f\"Failed to scrape website {url}: {str(e)}\")\n",
    "        return \"\""
   ]
  },
  {
   "cell_type": "code",
   "execution_count": 31,
   "id": "b8236112-90be-4d8c-82a0-5746943cca13",
   "metadata": {
    "scrolled": true
   },
   "outputs": [
    {
     "name": "stderr",
     "output_type": "stream",
     "text": [
      " impossible to decode XFormObject /Fm606\n",
      "FloatObject (b'0.00-8976378') invalid; use 0.0 instead\n",
      "FloatObject (b'0.000-8818898') invalid; use 0.0 instead\n"
     ]
    },
    {
     "name": "stdout",
     "output_type": "stream",
     "text": [
      "Failed to download PDF from https://www.biorxiv.org/content/10.1101/2024.11.25.625244v1.full.pdf: ('Connection broken: IncompleteRead(454757 bytes read, 2128756 more expected)', IncompleteRead(454757 bytes read, 2128756 more expected))\n"
     ]
    },
    {
     "name": "stderr",
     "output_type": "stream",
     "text": [
      "/Users/drakegraham/miniforge3/lib/python3.10/site-packages/transformers/tokenization_utils_base.py:1617: FutureWarning: `clean_up_tokenization_spaces` was not set. It will be set to `True` by default. This behavior will be deprecated in transformers v4.45, and will be then set to `False` by default. For more details check this issue: https://github.com/huggingface/transformers/issues/31884\n",
      "  warnings.warn(\n"
     ]
    }
   ],
   "source": [
    "def load_data():\n",
    "\n",
    "    pdf_urls = [\n",
    "        \"https://www.biorxiv.org/content/10.1101/2020.07.28.224253v1.full.pdf\",\n",
    "        \"https://www.cartercenter.org/resources/pdfs/health/ephti/library/lecture_notes/health_extension_trainees/generalpathology.pdf\"\n",
    "    ]\n",
    "\n",
    "    \n",
    "    website_urls = [\n",
    "        \"https://en.wikipedia.org/wiki/Pathology\",\n",
    "        \"https://www.mcgill.ca/pathology/about/definition#:~:text=Pathology%20is%20a%20branch%20of,the%20whole%20body%20(autopsy).\"\n",
    "    ]\n",
    "\n",
    "    pdf_urls.extend(bio_urls)\n",
    "    documents_with_metadata = []\n",
    "\n",
    "    for url in pdf_urls:\n",
    "        data = load_pdf_from_url(url)\n",
    "        if data:\n",
    "            text_splitter = RecursiveCharacterTextSplitter(chunk_size=500, chunk_overlap=0)\n",
    "            splits = text_splitter.split_text(data)\n",
    "            for split in splits:\n",
    "                if split.strip():  \n",
    "                    documents_with_metadata.append(Document(page_content=split, metadata={\"source\": url}))\n",
    "\n",
    "    for url in website_urls:\n",
    "        data = scrape_website(url)\n",
    "        if data:\n",
    "            text_splitter = RecursiveCharacterTextSplitter(chunk_size=500, chunk_overlap=0)\n",
    "            splits = text_splitter.split_text(data)\n",
    "            for split in splits:\n",
    "                if split.strip():  \n",
    "                    documents_with_metadata.append(Document(page_content=split, metadata={\"source\": url}))\n",
    "\n",
    "    embedding_model = HuggingFaceEmbeddings(model_name=\"sentence-transformers/all-MiniLM-L6-v2\")\n",
    "\n",
    "\n",
    "    if not os.path.exists(\"chromadb\"):\n",
    "        os.makedirs(\"chromadb\")\n",
    "\n",
    "    vectorstore = Chroma.from_documents(\n",
    "        documents=documents_with_metadata, \n",
    "        embedding=embedding_model, \n",
    "        persist_directory=\"chromadb\"\n",
    "    )\n",
    "\n",
    "    return vectorstore\n",
    "\n",
    "\n",
    "vectorstore = load_data()"
   ]
  },
  {
   "cell_type": "code",
   "execution_count": null,
   "id": "0ba780c5-b09c-467c-99d9-5d21bd861510",
   "metadata": {},
   "outputs": [],
   "source": []
  },
  {
   "cell_type": "markdown",
   "id": "b70dc89b-79d4-4c83-982b-2c1af0f2e739",
   "metadata": {},
   "source": [
    "# Rag with webscraping "
   ]
  },
  {
   "cell_type": "code",
   "execution_count": null,
   "id": "af5d68c5-e17f-438f-b614-c00343e0b6e2",
   "metadata": {},
   "outputs": [],
   "source": [
    "def query_rag(question):\n",
    "    template = \"\"\"\n",
    "    Use the following pieces of context to answer the question at the end.\n",
    "    If you don't know the answer, just say that you don't know; don't try to make up an answer.\n",
    "    Keep the answer as concise as possible, preferably in three sentences.\n",
    "    Quote the url the info came from.\n",
    "    Context:\n",
    "    {context}\n",
    "    Question: {question}\n",
    "    Answer:\n",
    "    \"\"\"\n",
    "\n",
    "    retriever = vectorstore.as_retriever()\n",
    "    context_docs = retriever.get_relevant_documents(question)\n",
    "\n",
    "    # Ensure valid content in context_docs\n",
    "    if not context_docs:\n",
    "        return \"No relevant context found to answer this question.\"\n",
    "\n",
    "    context_text = \"\\n\".join([doc.page_content for doc in context_docs if doc.page_content.strip()])\n",
    "\n",
    "    if not context_text.strip():\n",
    "        return \"No relevant context found to answer this question.\"\n",
    "\n",
    "    prompt = template.format(context=context_text, question=question)\n",
    "\n",
    "    response = groq_client.chat.completions.create(\n",
    "        messages=[\n",
    "            {\"role\": \"system\", \"content\": \"You are a helpful assistant.\"},\n",
    "            {\"role\": \"user\", \"content\": prompt}\n",
    "        ],\n",
    "        model=\"llama3-8b-8192\"\n",
    "    )\n",
    "\n",
    "    return response.choices[0].message.content\n",
    "\n",
    "qa_pairs = []\n",
    "\n",
    "for question in pathology_questions:\n",
    "    try:\n",
    "        answer = query_rag(question)\n",
    "    except Exception as e:\n",
    "        answer = f\"Error processing question: {e}\"\n",
    "    \n",
    "    qa_pairs.append({\"question\": question, \"answer\": answer})\n",
    "    print(f\"Question: {question}\")\n",
    "    print(f\"Answer: {answer}\\n\")\n",
    "\n",
    "with open(\"pathology_qna.json\", \"w\") as file:\n",
    "    json.dump(qa_pairs, file, indent=4)"
   ]
  },
  {
   "cell_type": "markdown",
   "id": "7c785148-ae7f-4fe2-a120-1c4835cba58f",
   "metadata": {},
   "source": [
    "# Llama 3 model without Rag"
   ]
  },
  {
   "cell_type": "code",
   "execution_count": 9,
   "id": "d1eb54e2-1a27-4c68-bbe4-d31c520f67e6",
   "metadata": {},
   "outputs": [
    {
     "name": "stdout",
     "output_type": "stream",
     "text": [
      "Q&A saved to pathology_qna.json\n"
     ]
    }
   ],
   "source": [
    "api_key = \"Your api key\"\n",
    "groq_client = Groq(api_key=api_key)\n",
    "\n",
    "qa_list = [] \n",
    "\n",
    "for question in pathology_questions:\n",
    "    try:\n",
    "        response = groq_client.chat.completions.create(\n",
    "            messages=[\n",
    "                {\"role\": \"system\", \"content\": \"If you don't know the answer, just say that you don't know; don't try to make up an answer. Keep the answer as concise as possible, preferably in three sentences.\"},\n",
    "                {\"role\": \"user\", \"content\": question}\n",
    "            ],\n",
    "            model=\"llama3-8b-8192\"\n",
    "        )\n",
    "        answer = response.choices[0].message.content\n",
    "        qa_list.append({\"question\": question, \"answer\": answer})\n",
    "    except Exception as e:\n",
    "        print(f\"Error processing question '{question}': {e}\")\n",
    "\n",
    "import json\n",
    "with open(\"simple_model.json\", \"w\") as file:\n",
    "    json.dump(qa_list, file, indent=4)"
   ]
  },
  {
   "cell_type": "markdown",
   "id": "fbe4cd8f-6055-4118-9e6b-ef1c0d223709",
   "metadata": {},
   "source": [
    "# Ollama- open-bio llama3 7b"
   ]
  },
  {
   "cell_type": "code",
   "execution_count": 6,
   "id": "4f3cd733-0d38-4227-9d09-6fb44903d5ea",
   "metadata": {},
   "outputs": [
    {
     "name": "stderr",
     "output_type": "stream",
     "text": [
      "Progress: 100%|███████████████████████████| 55/55 [14:30<00:00, 15.83s/question]\n"
     ]
    }
   ],
   "source": [
    "from tqdm import tqdm\n",
    "template = \"\"\"\n",
    "If you don't know the answer, just say that you don't know; don't try to make up an answer.\n",
    "Keep the answer as concise as possible, preferably in three sentences.\n",
    "\"\"\"\n",
    "ollama_model = Ollama(model=\"koesn/llama3-openbiollm-8b\", temperature=0)\n",
    "def ask_question(question):\n",
    "    try:\n",
    "        response = ollama_model.invoke(question)\n",
    "        return response\n",
    "    except Exception as e:\n",
    "        return str(e)  \n",
    "\n",
    "qa_list = []\n",
    "\n",
    "for question in tqdm(pathology_questions, desc=\"Progress\", unit=\"question\"):\n",
    "    answer = ask_question(question)\n",
    "    qa_list.append({\"question\": question, \"answer\": answer})\n",
    "\n",
    "output_file = \"open-bio.json\"\n",
    "with open(output_file, \"w\") as f:\n",
    "    json.dump(qa_list, f, indent=4)"
   ]
  },
  {
   "cell_type": "markdown",
   "id": "10ba9526-7605-420e-8a02-e4ca42d33bb7",
   "metadata": {},
   "source": [
    "# Ollama open-bio llama3 7b Rag"
   ]
  },
  {
   "cell_type": "code",
   "execution_count": 42,
   "id": "448abbc4-5a24-4070-9b62-39e413d96f84",
   "metadata": {},
   "outputs": [
    {
     "name": "stderr",
     "output_type": "stream",
     "text": [
      "Progress: 100%|███████████████████████████| 55/55 [16:58<00:00, 18.52s/question]\n"
     ]
    }
   ],
   "source": [
    "template = \"\"\"\n",
    "Context:\n",
    "{context}\n",
    "\n",
    "Question:\n",
    "{question}\n",
    "\n",
    "Answer concisely. If you don't know, just say you don't know.\n",
    "\"\"\"\n",
    "\n",
    "QA_CHAIN_PROMPT = PromptTemplate(\n",
    "    input_variables=[\"context\", \"question\"],\n",
    "    template=template,\n",
    ")\n",
    "\n",
    "ollama_model = Ollama(model=\"koesn/llama3-openbiollm-8b\", temperature=0)\n",
    "\n",
    "def get_context(question, vectorstore):\n",
    "    \"\"\"Retrieve context related to the question from the vector store.\"\"\"\n",
    "    retriever = vectorstore.as_retriever()\n",
    "    context_docs = retriever.invoke(question)\n",
    "    context_text = \"\\n\".join([doc.page_content for doc in context_docs]) if context_docs else \"\"\n",
    "    return context_text\n",
    "\n",
    "def ask_question(question, context=\"\"):\n",
    "    \"\"\"Generate an answer using Ollama, optionally with context.\"\"\"\n",
    "    try:\n",
    "        if context:  \n",
    "            prompt = QA_CHAIN_PROMPT.format(context=context, question=question)\n",
    "        else:  \n",
    "            prompt = question\n",
    "        response = ollama_model.invoke(prompt)\n",
    "        return response.strip()\n",
    "    except Exception as e:\n",
    "        return str(e)\n",
    "\n",
    "\n",
    "qa_list = []\n",
    "\n",
    "for question in tqdm(pathology_questions, desc=\"Progress\", unit=\"question\"):\n",
    "    context = \"\"\n",
    "    if vectorstore:\n",
    "        context = get_context(question, vectorstore)\n",
    "        if not context:\n",
    "            context = \"No relevant context available.\"\n",
    "\n",
    "    prompt = QA_CHAIN_PROMPT.format(context=context, question=question)\n",
    "\n",
    "    try:\n",
    "        answer = ollama_model.invoke(prompt).strip()\n",
    "    except Exception as e:\n",
    "        answer = \"An error occurred while generating the answer.\"\n",
    "\n",
    "    qa_list.append({\"question\": question, \"answer\": answer})\n",
    "\n",
    "output_file = \"open-bio-RAG.json\"\n",
    "with open(output_file, \"w\") as f:\n",
    "    json.dump(qa_list, f, indent=4)"
   ]
  },
  {
   "cell_type": "code",
   "execution_count": null,
   "id": "1491b6e2-cdac-48e0-bced-1edbffc498b5",
   "metadata": {},
   "outputs": [],
   "source": []
  }
 ],
 "metadata": {
  "kernelspec": {
   "display_name": "Python 3 (ipykernel)",
   "language": "python",
   "name": "python3"
  },
  "language_info": {
   "codemirror_mode": {
    "name": "ipython",
    "version": 3
   },
   "file_extension": ".py",
   "mimetype": "text/x-python",
   "name": "python",
   "nbconvert_exporter": "python",
   "pygments_lexer": "ipython3",
   "version": "3.10.14"
  }
 },
 "nbformat": 4,
 "nbformat_minor": 5
}
